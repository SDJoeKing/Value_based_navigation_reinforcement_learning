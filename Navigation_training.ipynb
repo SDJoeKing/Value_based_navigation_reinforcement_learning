{
 "cells": [
  {
   "cell_type": "code",
   "execution_count": 1,
   "id": "4fdb11c6",
   "metadata": {},
   "outputs": [
    {
     "name": "stderr",
     "output_type": "stream",
     "text": [
      "INFO:unityagents:\n",
      "'Academy' started successfully!\n",
      "Unity Academy name: Academy\n",
      "        Number of Brains: 1\n",
      "        Number of External Brains : 1\n",
      "        Lesson number : 0\n",
      "        Reset Parameters :\n",
      "\t\t\n",
      "Unity brain name: BananaBrain\n",
      "        Number of Visual Observations (per agent): 0\n",
      "        Vector Observation space type: continuous\n",
      "        Vector Observation space size (per agent): 37\n",
      "        Number of stacked Vector Observation: 1\n",
      "        Vector Action space type: discrete\n",
      "        Vector Action space size (per agent): 4\n",
      "        Vector Action descriptions: , , , \n"
     ]
    }
   ],
   "source": [
    "import torch\n",
    "from unityagents import UnityEnvironment\n",
    "import numpy as np\n",
    "from agent import *\n",
    "from model import *\n",
    "\n",
    "env = UnityEnvironment(file_name='Banana_Linux/Banana.x86_64')\n",
    "brain_name = env.brain_names[0]\n",
    "brain = env.brains[brain_name]\n",
    "\n",
    "env_info = env.reset(train_mode = True)[brain_name]"
   ]
  },
  {
   "cell_type": "code",
   "execution_count": 2,
   "id": "c40d21f0",
   "metadata": {},
   "outputs": [
    {
     "name": "stdout",
     "output_type": "stream",
     "text": [
      "Episode: 50, max score5.0, max avg score 2.3\n",
      "\n",
      "Episode: 100, max score6.0, max avg score 3.9\n",
      "\n",
      "Episode: 150, max score9.0, max avg score 6.1\n",
      "\n",
      "Episode: 200, max score9.0, max avg score 7.4\n",
      "\n",
      "Episode: 250, max score13.0, max avg score 8.9\n",
      "\n",
      "Episode: 300, max score17.0, max avg score 10.5\n",
      "\n",
      "Episode: 350, max score17.0, max avg score 12.1\n",
      "\n",
      "Episode: 400, max score17.0, max avg score 12.1\n",
      "\n",
      "Episode: 450, max score17.0, max avg score 12.1\n",
      "\n",
      "Episode: 500, max score18.0, max avg score 12.7\n",
      "\n",
      "Episode: 550, max score21.0, max avg score 14.9\n",
      "\n",
      "Episode: 600, max score21.0, max avg score 14.9\n",
      "\n",
      "Episode: 650, max score21.0, max avg score 15.4\n",
      "\n",
      "Episode: 700, max score21.0, max avg score 15.4\n",
      "\n",
      "Episode: 750, max score21.0, max avg score 15.4\n",
      "\n",
      "Episode: 800, max score22.0, max avg score 17.2\n",
      "\n",
      "Episode: 850, max score22.0, max avg score 17.2\n",
      "\n",
      "Episode: 900, max score23.0, max avg score 17.2\n",
      "\n",
      "Episode: 950, max score23.0, max avg score 17.2\n",
      "\n",
      "Episode: 1000, max score23.0, max avg score 17.2\n",
      "\n",
      "Episode: 1050, max score23.0, max avg score 17.2\n",
      "\n",
      "Episode: 1100, max score23.0, max avg score 17.2\n",
      "\n",
      "Episode: 1150, max score23.0, max avg score 17.2\n",
      "\n",
      "Episode: 1200, max score24.0, max avg score 17.2\n",
      "\n",
      "Solved in episode 1200, max score 24.0\n",
      "\n"
     ]
    }
   ],
   "source": [
    "def training(env, agent, episodes = 2000, eps = 1, eps_end = 0.001, max_iter = 2000, print_every = 50, term_reward = 23):\n",
    "    episodal_reward = []\n",
    "    averaged_window = deque(maxlen = 10)\n",
    "    averaged_reward = []\n",
    "    score_max = 0\n",
    "    for e in range(episodes):\n",
    "        r = 0\n",
    "        counter = 0\n",
    "        env_info = env.reset(train_mode = True)[brain_name]\n",
    "        state = env_info.vector_observations[0]\n",
    "        \n",
    "        ## Limit each eposide to not over 300 iterations\n",
    "        ## Goal is to reach 25 reward within 300 iterations/steps\n",
    "        while counter < max_iter:\n",
    "#             print(counter)\n",
    "            counter+=1\n",
    "            action = agent.act(state, eps)\n",
    "            env_info = env.step(action)[brain_name] \n",
    "            next_state = env_info.vector_observations[0]\n",
    "            reward = env_info.rewards[0]\n",
    "            done = env_info.local_done[0] \n",
    "            r += reward\n",
    "            \n",
    "            agent.step(state, action, reward, next_state, done)\n",
    "\n",
    "            if done:\n",
    "                break\n",
    "            \n",
    "            state = next_state\n",
    "        eps = max(eps*0.995, eps_end)  \n",
    "        episodal_reward.append(r)\n",
    "        averaged_window.append(r)\n",
    "        averaged_reward.append(np.mean(averaged_window))\n",
    "\n",
    "        ## print every\n",
    "        if (e+1) % print_every == 0:\n",
    "            print(f\"Episode: {e+1}, max score{np.max(episodal_reward)}, max avg score {np.max(averaged_reward)}\\n\")\n",
    "        \n",
    "        if e>0:\n",
    "            if r > score_max:\n",
    "                torch.save(agent.local_qnet.state_dict(), 'model.pt')  \n",
    "                score_max = r\n",
    "            if score_max > term_reward:\n",
    "                print(f\"Solved in episode {e+1}, max score {r}\\n\")\n",
    "                break\n",
    "    return episodal_reward, averaged_reward\n",
    "        \n",
    "agent =Agent()\n",
    " \n",
    "epi_reward, avg_rward = training(env, agent)\n",
    "    \n",
    "        "
   ]
  },
  {
   "cell_type": "code",
   "execution_count": 4,
   "id": "20a934b1",
   "metadata": {},
   "outputs": [],
   "source": [
    "env.close()"
   ]
  },
  {
   "cell_type": "code",
   "execution_count": 6,
   "id": "386c2e3f",
   "metadata": {},
   "outputs": [
    {
     "data": {
      "text/plain": [
       "<matplotlib.legend.Legend at 0x7f54ea653128>"
      ]
     },
     "execution_count": 6,
     "metadata": {},
     "output_type": "execute_result"
    },
    {
     "data": {
      "image/png": "[encoded data removed]",
      "text/plain": [
       "<Figure size 432x288 with 1 Axes>"
      ]
     },
     "metadata": {
      "needs_background": "light"
     },
     "output_type": "display_data"
    }
   ],
   "source": [
    "import matplotlib.pyplot as plt\n",
    "plt.plot(epi_reward, label = 'Episodic reward')\n",
    "plt.plot(avg_rward, label = 'Averaged over 10 epi')\n",
    "plt.xlabel(\"Episodes\")\n",
    "plt.ylabel(\"Undiscounted Reward\")\n",
    "plt.legend()"
   ]
  },
  {
   "cell_type": "code",
   "execution_count": 1,
   "id": "4475884d",
   "metadata": {},
   "outputs": [
    {
     "name": "stderr",
     "output_type": "stream",
     "text": [
      "INFO:unityagents:\n",
      "'Academy' started successfully!\n",
      "Unity Academy name: Academy\n",
      "        Number of Brains: 1\n",
      "        Number of External Brains : 1\n",
      "        Lesson number : 0\n",
      "        Reset Parameters :\n",
      "\t\t\n",
      "Unity brain name: BananaBrain\n",
      "        Number of Visual Observations (per agent): 0\n",
      "        Vector Observation space type: continuous\n",
      "        Vector Observation space size (per agent): 37\n",
      "        Number of stacked Vector Observation: 1\n",
      "        Vector Action space type: discrete\n",
      "        Vector Action space size (per agent): 4\n",
      "        Vector Action descriptions: , , , \n"
     ]
    }
   ],
   "source": [
    "## To play with trained agent:\n",
    "from unityagents import UnityEnvironment\n",
    "import numpy as np\n",
    "from agent import *\n",
    "from model import *\n",
    "\n",
    "newenv = UnityEnvironment(file_name='Banana_Linux/Banana.x86_64')\n",
    "brain_name = newenv.brain_names[0]\n",
    "brain = newenv.brains[brain_name]\n",
    "\n",
    "env_info = newenv.reset(train_mode = False)[brain_name]\n",
    "\n",
    "## load trained model:\n",
    "smartAgent = Agent()\n",
    "smartAgent.local_qnet.load_state_dict(torch.load('model.pt'))\n",
    "smartAgent.local_qnet.eval()\n",
    "state =  env_info.vector_observations[0]\n",
    "done = False\n",
    "\n",
    "while not done:\n",
    " \n",
    "    action = smartAgent.act(state, 0.001)\n",
    "    env_info = newenv.step(action)[brain_name] \n",
    "    next_state = env_info.vector_observations[0]\n",
    "    reward = env_info.rewards[0]\n",
    "    done = env_info.local_done[0] \n",
    "    state = next_state\n",
    "\n",
    " "
   ]
  },
  {
   "cell_type": "code",
   "execution_count": 2,
   "id": "8baa8f2d",
   "metadata": {},
   "outputs": [],
   "source": [
    "newenv.close()"
   ]
  },
  {
   "cell_type": "code",
   "execution_count": null,
   "id": "a46247d7",
   "metadata": {},
   "outputs": [],
   "source": []
  }
 ],
 "metadata": {
  "kernelspec": {
   "display_name": "Python 3",
   "language": "python",
   "name": "python3"
  },
  "language_info": {
   "codemirror_mode": {
    "name": "ipython",
    "version": 3
   },
   "file_extension": ".py",
   "mimetype": "text/x-python",
   "name": "python",
   "nbconvert_exporter": "python",
   "pygments_lexer": "ipython3",
   "version": "3.6.15"
  }
 },
 "nbformat": 4,
 "nbformat_minor": 5
}
